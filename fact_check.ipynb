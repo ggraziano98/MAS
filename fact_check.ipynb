{
 "cells": [
  {
   "cell_type": "code",
   "execution_count": 1,
   "metadata": {},
   "outputs": [],
   "source": [
    "import sys\n",
    "\n",
    "sys.path.insert(0, 'c:\\\\Users\\\\marco\\\\OneDrive\\\\Desktop\\\\Fisica\\\\ABM-Project\\\\Progetto\\\\MAS\\\\Lux\\\\model')"
   ]
  },
  {
   "cell_type": "code",
   "execution_count": 2,
   "metadata": {},
   "outputs": [],
   "source": [
    "import os\n",
    "import pickle\n",
    "\n",
    "import matplotlib.pyplot as plt\n",
    "import numpy as np\n",
    "import pandas as pd\n",
    "import statsmodels\n",
    "from conf import RESULT_DIR, TESTNUM\n",
    "from scipy.stats import kstest, norm, kurtosis\n",
    "from statsmodels.tsa.stattools import adfuller\n",
    "from statsmodels.stats.diagnostic import acorr_ljungbox\n"
   ]
  },
  {
   "cell_type": "code",
   "execution_count": 3,
   "metadata": {},
   "outputs": [],
   "source": [
    "plt.style.use('ggplot')"
   ]
  },
  {
   "cell_type": "code",
   "execution_count": 4,
   "metadata": {},
   "outputs": [],
   "source": [
    "with open(f'{RESULT_DIR}/conf.pkl', 'rb') as f:\n",
    "    CONST = pickle.load(f)\n",
    "\n",
    "if not os.path.exists(RESULT_DIR + '/immagini'):\n",
    "    os.mkdir(f'{RESULT_DIR}/immagini')"
   ]
  },
  {
   "cell_type": "code",
   "execution_count": 5,
   "metadata": {},
   "outputs": [
    {
     "data": {
      "text/plain": [
       "'results/notsignedpricevariation_02'"
      ]
     },
     "execution_count": 5,
     "metadata": {},
     "output_type": "execute_result"
    }
   ],
   "source": [
    "RESULT_DIR #= 'results/test_8/'"
   ]
  },
  {
   "cell_type": "code",
   "execution_count": 6,
   "metadata": {},
   "outputs": [],
   "source": [
    "df_list = list([pd.read_pickle(f\"{RESULT_DIR}/Model_vars_{i}.pkl\") for i in range(CONST['N_RUNS'])])"
   ]
  },
  {
   "cell_type": "code",
   "execution_count": 7,
   "metadata": {},
   "outputs": [],
   "source": [
    "pvalues = [adfuller(list(df_list[i].loc[:,'price']))[1] for i in range(len(df_list))]\n",
    "volclus = [acorr_ljungbox(list(df_list[i].loc[:,'price']), lags = [20], return_df = True) for i in range(len(df_list))]\n",
    "volclusvalues = [volclus[i]['lb_pvalue'].values[0]  for i in range(len(volclus))]\n",
    "kurtosisvalues = [kurtosis(pd.DataFrame(df_list[i]['price'].values[1:] - df_list[i]['price'].values[:-1]).rolling(20, step = 2).sum()[10:]) for i in range(len(df_list))]"
   ]
  },
  {
   "cell_type": "code",
   "execution_count": 113,
   "metadata": {},
   "outputs": [],
   "source": [
    "for i, model_df in enumerate(df_list):\n",
    "    fig , ax = plt.subplots(3,1, figsize=(20, 16),dpi=300)\n",
    "    ax[0].set_xlabel(f'Price time series - run {i}')\n",
    "    ax[1].set_xlabel(f'Technical fraction run {i}')\n",
    "    ax[2].set_xlabel(f'Opinion Index run {i}')\n",
    "    ax[0].plot(model_df.price, label=f'Run {i}')\n",
    "    ax[1].plot(model_df.technical_fraction, label=f'Run {i}')\n",
    "    ax[2].plot(model_df.opinion_index, label = f'Run {i}')\n",
    "    # fig.tight_layout(pad=5.0)\n",
    "    title = ['DF-Test pvalue = ', round(pvalues[i],3), ' \\u21FE ','Unit Root:', pvalues[i]>0.05,'\\n'\n",
    "             'VC-Test pvalue = ', round(volclusvalues[i],3), ' \\u21FE ','Volatility Clustering:', volclusvalues[i]<0.05,'\\n' \n",
    "             'Kurtosis value = ', kurtosisvalues[i].round(3),' \\u21FE ','Leptokurtic:', kurtosisvalues[i]>0,'\\n'    ]\n",
    "    title = ' '.join(str(e) for e in title)\n",
    "    fig.suptitle(title,fontsize=22,color='black')\n",
    "    fig.savefig(f'{RESULT_DIR}/immagini/Price and technical fraction over time run={i}',facecolor='white', transparent=False)\n",
    "    plt.close(fig)"
   ]
  }
 ],
 "metadata": {
  "kernelspec": {
   "display_name": "Python 3.10.5 64-bit",
   "language": "python",
   "name": "python3"
  },
  "language_info": {
   "codemirror_mode": {
    "name": "ipython",
    "version": 3
   },
   "file_extension": ".py",
   "mimetype": "text/x-python",
   "name": "python",
   "nbconvert_exporter": "python",
   "pygments_lexer": "ipython3",
   "version": "3.10.5"
  },
  "orig_nbformat": 4,
  "vscode": {
   "interpreter": {
    "hash": "ba18286d27dd3f1705df4025c31d2b7021c67fcd01f023a6f194ed0db21ec453"
   }
  }
 },
 "nbformat": 4,
 "nbformat_minor": 2
}
