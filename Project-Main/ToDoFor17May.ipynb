{
 "cells": [
  {
   "cell_type": "code",
   "execution_count": 2,
   "metadata": {
    "button": false,
    "collapsed": true,
    "deletable": true,
    "new_sheet": false,
    "run_control": {
     "read_only": false
    }
   },
   "outputs": [],
   "source": [
    "import random"
   ]
  },
  {
   "cell_type": "code",
   "execution_count": 3,
   "metadata": {
    "button": false,
    "collapsed": false,
    "deletable": true,
    "new_sheet": false,
    "run_control": {
     "read_only": false
    }
   },
   "outputs": [],
   "source": [
    "import mesa\n",
    "import matplotlib.pyplot as plt\n",
    "\n",
    "from mesa import Model, Agent\n",
    "from mesa.time import RandomActivation\n",
    "from mesa.space import NetworkGrid\n",
    "from mesa.datacollection import DataCollector\n",
    "from mesa.batchrunner import BatchRunner\n"
   ]
  },
  {
   "cell_type": "code",
   "execution_count": 4,
   "metadata": {
    "button": false,
    "collapsed": true,
    "deletable": true,
    "new_sheet": false,
    "run_control": {
     "read_only": false
    }
   },
   "outputs": [],
   "source": [
    "import numpy as np\n",
    "\n",
    "\n",
    "\n",
    "def random_cell(grid):\n",
    "    x = int(np.random.rand() * grid.width)\n",
    "    y = int(np.random.rand() * grid.height)\n",
    "\n",
    "    return x, y\n",
    "\n",
    "\n"
   ]
  },
  {
   "cell_type": "markdown",
   "metadata": {
    "button": false,
    "deletable": true,
    "new_sheet": false,
    "run_control": {
     "read_only": false
    }
   },
   "source": [
    "# Prezzo attuale\n",
    "\n",
    "esisterà una variabile globale P_t data dal mercato ad ogni t , istante temporale. Questi P_t li metteremo dentro una lista per poi farne un grafico\n",
    "\n",
    "N_tot sarà il numero di azioni totali che immettiamo nel mercato\n",
    "\n",
    "\n"
   ]
  },
  {
   "cell_type": "markdown",
   "metadata": {
    "button": false,
    "deletable": true,
    "new_sheet": false,
    "run_control": {
     "read_only": false
    }
   },
   "source": [
    "#  Noise Trader\n",
    "\n",
    "L'azione di acquistare o vendere una azione è casuale"
   ]
  },
  {
   "cell_type": "code",
   "execution_count": 5,
   "metadata": {
    "button": false,
    "collapsed": false,
    "deletable": true,
    "new_sheet": false,
    "run_control": {
     "read_only": false
    }
   },
   "outputs": [],
   "source": [
    "\n",
    "# si differenziano dai foundamental perchè l'operazione buy o sell è casuale\n",
    "class Noise(Agent):\n",
    "    \n",
    "    agent_type = 'Noise'\n",
    "    \n",
    "    def __init__(self, prezzo_t):  #il costo_azione dipenderà dalla compra-vendita\n",
    "        '''\n",
    "    NOISE TRADER\n",
    "    \n",
    "    Attributes:\n",
    "        \n",
    "        n_azioni che ha \n",
    "        reddito\n",
    "        \n",
    "        '''\n",
    "        \n",
    "        self.n_azioni    = n_azioni\n",
    "        self.reddito     = random.random()*int(1e4)\n",
    "        \n",
    "        \n",
    "        def compravendi(self):\n",
    "                \n",
    "                r = random.random()\n",
    "\n",
    "                if r<= 0.5:\n",
    "                    if self.reddito >= prezzo_t:\n",
    "                        self.n_azioni += 1    #compra\n",
    "                        self.reddito  += -prezzo_t\n",
    "                             \n",
    "                else :\n",
    "                    if self.n_azioni >= 0:    #ovviamente solo se ha azioni vende\n",
    "                        self.n_azioni += -1\n",
    "                        self.reddito  += +prezzo_t\n",
    "                \n",
    "           "
   ]
  },
  {
   "cell_type": "code",
   "execution_count": 6,
   "metadata": {
    "button": false,
    "collapsed": false,
    "deletable": true,
    "new_sheet": false,
    "run_control": {
     "read_only": false
    }
   },
   "outputs": [
    {
     "name": "stdout",
     "output_type": "stream",
     "text": [
      "4046.5805000028854\n"
     ]
    }
   ],
   "source": [
    "r= random.random()*1e4\n",
    "print (r)"
   ]
  },
  {
   "cell_type": "markdown",
   "metadata": {
    "button": false,
    "deletable": true,
    "new_sheet": false,
    "run_control": {
     "read_only": false
    }
   },
   "source": [
    "# Fondamental "
   ]
  },
  {
   "cell_type": "markdown",
   "metadata": {
    "button": false,
    "deletable": true,
    "new_sheet": false,
    "run_control": {
     "read_only": false
    }
   },
   "source": [
    "Gli analisti fondamentali sono avversi al rischio, massimizzano la propria funzione di utilità di breve periodo dipendente dal dividendo del titolo e decidono se comprare o vendere il titolo se un certo valore, minimo o massimo, viene raggiunto dal suo prezzo. "
   ]
  },
  {
   "cell_type": "code",
   "execution_count": 7,
   "metadata": {
    "button": false,
    "collapsed": false,
    "deletable": true,
    "new_sheet": false,
    "run_control": {
     "read_only": false
    }
   },
   "outputs": [],
   "source": [
    "# si differenziano dai noise perchè l'operazione buy o sell dipende da un P_t, \n",
    "\n",
    "class fundamental(Agent):\n",
    "    \n",
    "    agent_type = 'fund'\n",
    "    \n",
    "    def __init__(self, prezzo_t):\n",
    "        \n",
    "        '''\n",
    "    FOUNDAMENTAL\n",
    "    \n",
    "    Attributes:\n",
    "        \n",
    "        valutazione secondo lui dell'azione\n",
    "        reddito\n",
    "        '''\n",
    "        \n",
    "        self.reddito  = random.random()*int(1e4)\n",
    "        self.n_azioni = n_azioni\n",
    "        \n",
    "        self.valutazione = random.random()   #la valutazione personale dell'azione da cosa dipenderà? ****\n",
    "         \n",
    "        def compravendi(self):\n",
    "            \n",
    "            valutazione/p_t =\n",
    "            \n",
    "            pass\n",
    "    "
   ]
  },
  {
   "cell_type": "markdown",
   "metadata": {
    "button": false,
    "deletable": true,
    "new_sheet": false,
    "run_control": {
     "read_only": false
    }
   },
   "source": [
    "# Ipotesi di plot\n",
    "\n",
    "- prezzo vs step\n",
    "- volatility vs time"
   ]
  },
  {
   "cell_type": "markdown",
   "metadata": {
    "button": false,
    "collapsed": true,
    "deletable": true,
    "new_sheet": false,
    "run_control": {
     "read_only": false
    }
   },
   "source": [
    "# TO DO:\n",
    "\n",
    "distribuzione random con N fisso delle azioni degli agenti\n",
    "\n",
    "**** dobbiamo capire come si fa a gestire la valutazione di ogni azione per ogni agente"
   ]
  },
  {
   "source": [
    "## Random Walk\n",
    "\n",
    "ho aggiunto qua un codicino per un randomwalk monodimensionale, magari può tornare utile per testare alcune cose, basta far finta che il randomwalk sia il prezzo. L'ho fatto con amore, non è molto ma è un lavoro onesto."
   ],
   "cell_type": "markdown",
   "metadata": {
    "button": false,
    "collapsed": true,
    "deletable": true,
    "new_sheet": false,
    "run_control": {
     "read_only": false
    }
   }
  },
  {
   "cell_type": "code",
   "execution_count": null,
   "metadata": {},
   "outputs": [],
   "source": [
    "import numpy\n",
    "import matplotlib.pyplot as plt\n",
    "import random as r \n",
    "\n",
    "def randomwalk(step, start, lenght):\n",
    "    pos = start \n",
    "    walk = []\n",
    "    for i in range(lenght):\n",
    "        k = r.random()\n",
    "        if k > 1/2:\n",
    "            pos += step \n",
    "        else:\n",
    "            pos -= step \n",
    "        walk.append(pos)\n",
    "    return walk\n",
    "\n",
    "rw = randomwalk(1,0,1000)\n",
    "plt.plot(rw)\n"
   ]
  }
 ],
 "metadata": {
  "kernelspec": {
   "display_name": "Python 3",
   "language": "python",
   "name": "python3"
  },
  "language_info": {
   "codemirror_mode": {
    "name": "ipython",
    "version": 3
   },
   "file_extension": ".py",
   "mimetype": "text/x-python",
   "name": "python",
   "nbconvert_exporter": "python",
   "pygments_lexer": "ipython3",
   "version": "3.8.5"
  }
 },
 "nbformat": 4,
 "nbformat_minor": 0
}